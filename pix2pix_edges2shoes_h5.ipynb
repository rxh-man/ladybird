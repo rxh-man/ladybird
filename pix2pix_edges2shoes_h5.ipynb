{
  "nbformat": 4,
  "nbformat_minor": 0,
  "metadata": {
    "colab": {
      "provenance": [],
      "toc_visible": true,
      "authorship_tag": "ABX9TyPnv9nQdGzUtyX4y8U3OhEn",
      "include_colab_link": true
    },
    "kernelspec": {
      "name": "python3",
      "display_name": "Python 3"
    },
    "language_info": {
      "name": "python"
    }
  },
  "cells": [
    {
      "cell_type": "markdown",
      "metadata": {
        "id": "view-in-github",
        "colab_type": "text"
      },
      "source": [
        "<a href=\"https://colab.research.google.com/github/rxh-man/ladybird/blob/master/pix2pix_edges2shoes_h5.ipynb\" target=\"_parent\"><img src=\"https://colab.research.google.com/assets/colab-badge.svg\" alt=\"Open In Colab\"/></a>"
      ]
    },
    {
      "cell_type": "code",
      "execution_count": null,
      "metadata": {
        "id": "E1MGxDxkI0HJ"
      },
      "outputs": [],
      "source": [
        "import tensorflow as tf\n",
        "import tensorflow_datasets as tfds\n",
        "from tensorflow_examples.models.pix2pix import pix2pix\n",
        "\n",
        "# Load pre-trained pix2pix model\n",
        "model = pix2pix.unet_generator(output_channels=3, norm_type='instancenorm')\n",
        "checkpoint_url = 'https://storage.googleapis.com/tf_model_garden/vision/pix2pix/edges2shoes.tar.gz'\n",
        "\n",
        "# Download the checkpoint\n",
        "checkpoint_path = tf.keras.utils.get_file(\n",
        "    fname='edges2shoes',\n",
        "    origin=checkpoint_url,\n",
        "    untar=True\n",
        ")\n",
        "\n",
        "# Restore the weights\n",
        "checkpoint = tf.train.Checkpoint(generator=model)\n",
        "checkpoint.restore(tf.train.latest_checkpoint(checkpoint_path))\n",
        "\n",
        "# Save as H5\n",
        "model.save('pix2pix_edges2shoes.h5')\n",
        "\n",
        "print(\"✅ Model saved as pix2pix_edges2shoes.h5\")\n"
      ]
    }
  ]
}